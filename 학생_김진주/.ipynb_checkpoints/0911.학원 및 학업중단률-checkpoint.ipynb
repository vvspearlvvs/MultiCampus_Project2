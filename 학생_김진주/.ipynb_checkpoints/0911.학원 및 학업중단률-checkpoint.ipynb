{
 "cells": [
  {
   "cell_type": "code",
   "execution_count": 1,
   "id": "38fd7c21",
   "metadata": {},
   "outputs": [],
   "source": [
    "import requests\n",
    "import json\n",
    "import pandas as pd "
   ]
  },
  {
   "cell_type": "markdown",
   "id": "44802868",
   "metadata": {},
   "source": [
    "### 학업중단률"
   ]
  },
  {
   "cell_type": "code",
   "execution_count": null,
   "id": "4b16d958",
   "metadata": {},
   "outputs": [],
   "source": [
    "rawdata2 = pd.read_csv(\"./행정구역별 학업중단률 및 중단 사유2.csv\", encoding = 'utf-8')\n",
    "print(rawdata2.columns)\n",
    "\n",
    "print(rawdata2.head())\n"
   ]
  },
  {
   "cell_type": "markdown",
   "id": "a9b0134d",
   "metadata": {},
   "source": [
    "### 학원정보"
   ]
  },
  {
   "cell_type": "code",
   "execution_count": 28,
   "id": "499d6b4e",
   "metadata": {},
   "outputs": [
    {
     "name": "stderr",
     "output_type": "stream",
     "text": [
      "c:\\users\\gg664\\appdata\\local\\programs\\python\\python38\\lib\\site-packages\\IPython\\core\\interactiveshell.py:3169: DtypeWarning: Columns (10,20) have mixed types.Specify dtype option on import or set low_memory=False.\n",
      "  has_raised = await self.run_ast_nodes(code_ast.body, cell_name,\n"
     ]
    },
    {
     "name": "stdout",
     "output_type": "stream",
     "text": [
      "<class 'pandas.core.frame.DataFrame'>\n",
      "  시도교육청코드    시도교육청명 행정구역명 학원교습소명      학원지정번호                 학원명  정원합계  \\\n",
      "0     B10  서울특별시교육청   강남구     학원  3000039285  (A STUDIO)에이스튜디오학원    13   \n",
      "1     B10  서울특별시교육청   강남구     학원  3000015669        (주)그루샘수학보습학원   170   \n",
      "2     B10  서울특별시교육청   강남구     학원  3000021597        (주)대한폴댄스연맹학원  1280   \n",
      "3     B10  서울특별시교육청   강남구     학원  3000038691       (주)메디잡리더스간호학원    60   \n",
      "4     B10  서울특별시교육청   강남구     학원        2531        (주)멘토르수학전문학원    10   \n",
      "\n",
      "          분야명   교습계열명 교습과정목록명           교습과정명   도로명우편번호                 도로명주소  \\\n",
      "0       기예(대)   기예(중)     NaN  연기(연극/뮤지컬/오페라)    6052.0   서울특별시 강남구 논현로134길 5   \n",
      "1  입시.검정 및 보습    보통교과  보습·논술/           보습·논술  135999.0     서울특별시 강남구 도곡로 451   \n",
      "2       기예(대)   기예(중)     댄스/              댄스  135931.0   서울특별시 강남구 봉은사로6길 34   \n",
      "3        직업기술  간호보조기술     NaN           간호조무사    6242.0    서울특별시 강남구 역삼로3길 13   \n",
      "4  입시.검정 및 보습    보통교과     보습/              보습    6280.0  서울특별시 강남구 남부순환로 2927   \n",
      "\n",
      "                     도로명상세주소  \n",
      "0             / 5층/ 6층 (논현동)  \n",
      "1            / 5층 (대치동/한나빌딩)  \n",
      "2             / 3층/ 4층 (역삼동)  \n",
      "3  / 5층 일부(우측) (역삼동/ 케어랩스타워)  \n",
      "4      / 501호 (대치동/ 대치 클래시아)  \n"
     ]
    }
   ],
   "source": [
    "rawdata = pd.read_csv(\"./학원교습소정보_2021년08월31일기준.csv\", encoding = 'cp949')\n",
    "print(type(rawdata))\n",
    "\n",
    "# 컬럼정리 : 불필요한 컬럼삭제\n",
    "rawdata.drop(['개설일자','등록일자','등록상태명','휴원시작일자','휴원종료일자','수정일'],axis=1, inplace=True)\n",
    "rawdata.drop(['일시수용능력인원합계','인당수강료내용','수강료공개여부','기숙사학원여부'],axis=1, inplace=True)\n",
    "#rawdata.drop(['교습계열명','교습과정목록명', '교습과정명'],axis=1, inplace=True)\n",
    "\n",
    "print(rawdata.head())\n",
    "\n",
    "\n",
    "rawdata.to_csv(\"./학원교습소정보_2021년08월31일기준2.csv\",encoding = 'cp949')"
   ]
  },
  {
   "cell_type": "code",
   "execution_count": 32,
   "id": "f94d6817",
   "metadata": {},
   "outputs": [
    {
     "data": {
      "text/html": [
       "<div>\n",
       "<style scoped>\n",
       "    .dataframe tbody tr th:only-of-type {\n",
       "        vertical-align: middle;\n",
       "    }\n",
       "\n",
       "    .dataframe tbody tr th {\n",
       "        vertical-align: top;\n",
       "    }\n",
       "\n",
       "    .dataframe thead th {\n",
       "        text-align: right;\n",
       "    }\n",
       "</style>\n",
       "<table border=\"1\" class=\"dataframe\">\n",
       "  <thead>\n",
       "    <tr style=\"text-align: right;\">\n",
       "      <th></th>\n",
       "      <th>학원명</th>\n",
       "      <th>분야명</th>\n",
       "      <th>교습계열명</th>\n",
       "      <th>교습과정목록명</th>\n",
       "      <th>교습과정명</th>\n",
       "    </tr>\n",
       "  </thead>\n",
       "  <tbody>\n",
       "    <tr>\n",
       "      <th>127173</th>\n",
       "      <td>홍기만영어교습소</td>\n",
       "      <td>입시.검정 및 보습</td>\n",
       "      <td>보통교과</td>\n",
       "      <td>초/중등영어(월1800분)</td>\n",
       "      <td>보습</td>\n",
       "    </tr>\n",
       "    <tr>\n",
       "      <th>127174</th>\n",
       "      <td>홍익조형미술학원</td>\n",
       "      <td>예능(대)</td>\n",
       "      <td>예능(중)</td>\n",
       "      <td>NaN</td>\n",
       "      <td>미술</td>\n",
       "    </tr>\n",
       "    <tr>\n",
       "      <th>127175</th>\n",
       "      <td>화가의집미술교습소</td>\n",
       "      <td>예능(대)</td>\n",
       "      <td>예능(중)</td>\n",
       "      <td>미술(일반/월1/200분)</td>\n",
       "      <td>미술</td>\n",
       "    </tr>\n",
       "    <tr>\n",
       "      <th>127176</th>\n",
       "      <td>화가처럼그리기교습소</td>\n",
       "      <td>예능(대)</td>\n",
       "      <td>예능(중)</td>\n",
       "      <td>미술(월600분)</td>\n",
       "      <td>미술</td>\n",
       "    </tr>\n",
       "    <tr>\n",
       "      <th>127177</th>\n",
       "      <td>화랑학원</td>\n",
       "      <td>입시.검정 및 보습</td>\n",
       "      <td>보통교과</td>\n",
       "      <td>NaN</td>\n",
       "      <td>보습</td>\n",
       "    </tr>\n",
       "    <tr>\n",
       "      <th>127178</th>\n",
       "      <td>화북잉글리쉬버디영어교습소</td>\n",
       "      <td>입시.검정 및 보습</td>\n",
       "      <td>보통교과</td>\n",
       "      <td>NaN</td>\n",
       "      <td>보습</td>\n",
       "    </tr>\n",
       "    <tr>\n",
       "      <th>127179</th>\n",
       "      <td>화북한자속독교습소</td>\n",
       "      <td>기타(대)</td>\n",
       "      <td>기타(중)</td>\n",
       "      <td>한자속독(초급)(720분)</td>\n",
       "      <td>기타(소)</td>\n",
       "    </tr>\n",
       "    <tr>\n",
       "      <th>127180</th>\n",
       "      <td>화원미술교습소</td>\n",
       "      <td>예능(대)</td>\n",
       "      <td>예능(중)</td>\n",
       "      <td>NaN</td>\n",
       "      <td>미술</td>\n",
       "    </tr>\n",
       "    <tr>\n",
       "      <th>127181</th>\n",
       "      <td>휘아컴퓨터학원</td>\n",
       "      <td>기타(대)</td>\n",
       "      <td>기타(중)</td>\n",
       "      <td>기타(소)/</td>\n",
       "      <td>기타(소)</td>\n",
       "    </tr>\n",
       "    <tr>\n",
       "      <th>127182</th>\n",
       "      <td>흙빚는화가미술학원</td>\n",
       "      <td>예능(대)</td>\n",
       "      <td>예능(중)</td>\n",
       "      <td>NaN</td>\n",
       "      <td>미술</td>\n",
       "    </tr>\n",
       "  </tbody>\n",
       "</table>\n",
       "</div>"
      ],
      "text/plain": [
       "                  학원명         분야명  교습계열명         교습과정목록명  교습과정명\n",
       "127173       홍기만영어교습소  입시.검정 및 보습   보통교과  초/중등영어(월1800분)     보습\n",
       "127174       홍익조형미술학원       예능(대)  예능(중)             NaN     미술\n",
       "127175      화가의집미술교습소       예능(대)  예능(중)  미술(일반/월1/200분)     미술\n",
       "127176     화가처럼그리기교습소       예능(대)  예능(중)       미술(월600분)     미술\n",
       "127177           화랑학원  입시.검정 및 보습   보통교과             NaN     보습\n",
       "127178  화북잉글리쉬버디영어교습소  입시.검정 및 보습   보통교과             NaN     보습\n",
       "127179      화북한자속독교습소       기타(대)  기타(중)  한자속독(초급)(720분)  기타(소)\n",
       "127180        화원미술교습소       예능(대)  예능(중)             NaN     미술\n",
       "127181        휘아컴퓨터학원       기타(대)  기타(중)          기타(소)/  기타(소)\n",
       "127182      흙빚는화가미술학원       예능(대)  예능(중)             NaN     미술"
      ]
     },
     "execution_count": 32,
     "metadata": {},
     "output_type": "execute_result"
    }
   ],
   "source": [
    "rawdata[['학원명','분야명','교습계열명','교습과정목록명', '교습과정명']].tail(10)"
   ]
  },
  {
   "cell_type": "code",
   "execution_count": null,
   "id": "6305a141",
   "metadata": {},
   "outputs": [],
   "source": []
  }
 ],
 "metadata": {
  "kernelspec": {
   "display_name": "Python 3",
   "language": "python",
   "name": "python3"
  },
  "language_info": {
   "codemirror_mode": {
    "name": "ipython",
    "version": 3
   },
   "file_extension": ".py",
   "mimetype": "text/x-python",
   "name": "python",
   "nbconvert_exporter": "python",
   "pygments_lexer": "ipython3",
   "version": "3.8.8"
  }
 },
 "nbformat": 4,
 "nbformat_minor": 5
}
